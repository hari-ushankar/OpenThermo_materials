{
 "cells": [
  {
   "cell_type": "markdown",
   "id": "f3242dd9",
   "metadata": {
    "toc": true
   },
   "source": [
    "<h1>Table of Contents<span class=\"tocSkip\"></span></h1>\n",
    "<div class=\"toc\"><ul class=\"toc-item\"><li><span><a href=\"#Question-1\" data-toc-modified-id=\"Question-1-1\"><span class=\"toc-item-num\">1&nbsp;&nbsp;</span>Question 1</a></span></li><li><span><a href=\"#Question-2\" data-toc-modified-id=\"Question-2-2\"><span class=\"toc-item-num\">2&nbsp;&nbsp;</span>Question 2</a></span></li><li><span><a href=\"#Question-3\" data-toc-modified-id=\"Question-3-3\"><span class=\"toc-item-num\">3&nbsp;&nbsp;</span>Question 3</a></span></li><li><span><a href=\"#Question-4\" data-toc-modified-id=\"Question-4-4\"><span class=\"toc-item-num\">4&nbsp;&nbsp;</span>Question 4</a></span></li><li><span><a href=\"#Question-5\" data-toc-modified-id=\"Question-5-5\"><span class=\"toc-item-num\">5&nbsp;&nbsp;</span>Question 5</a></span></li><li><span><a href=\"#Question-6\" data-toc-modified-id=\"Question-6-6\"><span class=\"toc-item-num\">6&nbsp;&nbsp;</span>Question 6</a></span></li></ul></div>"
   ]
  },
  {
   "cell_type": "markdown",
   "id": "25cc25e8",
   "metadata": {},
   "source": [
    "Question bank on Chapter 4 for UBC-O Prof. Yan's textbook: https://pressbooks.bccampus.ca/thermo1/\n",
    "\n",
    "Created by Ali Doustahadi and Hariharan Umashankar for Open Education Resources project"
   ]
  },
  {
   "cell_type": "markdown",
   "id": "07207e84",
   "metadata": {},
   "source": [
    "### Question 1"
   ]
  },
  {
   "cell_type": "markdown",
   "id": "ec25997b",
   "metadata": {},
   "source": [
    "1) Determine and compare the enthalpy of the following materials at T=20$^{\\circ}$C :\n",
    "\n",
    "\n",
    "- Water \n",
    "- Ammonia \n",
    "- R134a \n",
    "\n",
    "(a) for the saturated liquid\n",
    "\n",
    "(b) for the saturated vapor\n",
    "\n",
    "(c) for mixture with quality = 40%\n"
   ]
  },
  {
   "cell_type": "code",
   "execution_count": 15,
   "id": "3df6ae55",
   "metadata": {},
   "outputs": [],
   "source": [
    "# import the libraries\n",
    "import CoolProp.CoolProp as CP"
   ]
  },
  {
   "cell_type": "code",
   "execution_count": 27,
   "id": "5c06ad54",
   "metadata": {},
   "outputs": [
    {
     "name": "stdout",
     "output_type": "stream",
     "text": [
      "The enthalpy of water for the saturated liquid phase at T = 293.15 K is: \n",
      " 83.914 kJ/kg\n",
      "The enthalpy of water for the saturated vapor phase at T = 293.15 K is: \n",
      " 2537.433 kJ/kg\n",
      "The enthalpy of water for the liquid- vapour mixture at T = 293.15 K is: \n",
      " 1065.322 kJ/kg\n"
     ]
    }
   ],
   "source": [
    "# define the variables\n",
    "fluid = 'Water'\n",
    "T_input = 20 + 273.15 ## add a temperature variable\n",
    "## For the saturated liquid:\n",
    "q = 0\n",
    "# calculate the enthalpy of water for the saturated liquid phase:\n",
    "h = CP.PropsSI('H', 'T', T_input, 'Q', q, fluid)\n",
    "print(\"The enthalpy of water for the saturated liquid phase at T = {} K is: \\n {} kJ/kg\".format(T_input, round(h/1000,3)))\n",
    "## For saturated vapor:\n",
    "## Use the quality below according to the phase that is being asked for:\n",
    "q = 1\n",
    "# calculate the enthalpy of water for the saturated liquid phase:\n",
    "h = CP.PropsSI('H', 'T', T_input, 'Q', q, fluid)\n",
    "print(\"The enthalpy of water for the saturated vapor phase at T = {} K is: \\n {} kJ/kg\".format(T_input, round(h/1000,3)))\n",
    "## For liquid-vapor mixture:\n",
    "## Use the quality below according to the phase that is being asked for:\n",
    "q = 0.4\n",
    "# calculate the enthalpy of water for the saturated liquid phase:\n",
    "h = CP.PropsSI('H', 'T', T_input, 'Q', q, fluid)\n",
    "print(\"The enthalpy of water for the liquid- vapour mixture at T = {} K is: \\n {} kJ/kg\".format(T_input, round(h/1000,3)))"
   ]
  },
  {
   "cell_type": "code",
   "execution_count": 28,
   "id": "373ec9d3",
   "metadata": {},
   "outputs": [
    {
     "name": "stdout",
     "output_type": "stream",
     "text": [
      "The enthalpy of Ammonia for the saturated liquid phase at T = 293.15 K is: \n",
      " 439.316 kJ/kg\n",
      "The enthalpy of Ammonia for the saturated vapor phase at T = 293.15 K is: \n",
      " 1625.616 kJ/kg\n",
      "The enthalpy of Ammonia for the liquid- vapour mixture at T = 293.15 K is: \n",
      " 913.836 kJ/kg\n"
     ]
    }
   ],
   "source": [
    "# define the variables\n",
    "fluid = \"Ammonia\"\n",
    "T_input = 20 + 273.15  ## add a temperature variable\n",
    "## For the saturated liquid:\n",
    "q = 0\n",
    "# calculate the enthalpy of water for the saturated liquid phase:\n",
    "h = CP.PropsSI(\"H\", \"T\", T_input, \"Q\", q, fluid)\n",
    "print(\n",
    "    \"The enthalpy of {} for the saturated liquid phase at T = {} K is: \\n {} kJ/kg\".format(\n",
    "        fluid, T_input, round(h / 1000, 3)\n",
    "    )\n",
    ")\n",
    "## For saturated vapor:\n",
    "## Use the quality below according to the phase that is being asked for:\n",
    "q = 1\n",
    "# calculate the enthalpy of water for the saturated liquid phase:\n",
    "h = CP.PropsSI(\"H\", \"T\", T_input, \"Q\", q, fluid)\n",
    "print(\n",
    "    \"The enthalpy of {} for the saturated vapor phase at T = {} K is: \\n {} kJ/kg\".format(\n",
    "        fluid, T_input, round(h / 1000, 3)\n",
    "    )\n",
    ")\n",
    "## For liquid-vapor mixture:\n",
    "## Use the quality below according to the phase that is being asked for:\n",
    "q = 0.4\n",
    "# calculate the enthalpy of water for the saturated liquid phase:\n",
    "h = CP.PropsSI(\"H\", \"T\", T_input, \"Q\", q, fluid)\n",
    "print(\n",
    "    \"The enthalpy of {} for the liquid- vapour mixture at T = {} K is: \\n {} kJ/kg\".format(\n",
    "        fluid, T_input, round(h / 1000, 3)\n",
    "    )\n",
    ")"
   ]
  },
  {
   "cell_type": "markdown",
   "id": "5b9b0671",
   "metadata": {},
   "source": [
    "### Question 2"
   ]
  },
  {
   "cell_type": "markdown",
   "id": "8a16b737",
   "metadata": {},
   "source": [
    "Consider air going through a polytropic pressurizing process with n = 1.1 in which its pressure is doubled; calculate the volume of air after the process if its initial volume was 1.5 L. Calculate the amount of boundary work associated with this process if the initial pressure of air was 100kPa. "
   ]
  },
  {
   "cell_type": "code",
   "execution_count": 30,
   "id": "e99ed149",
   "metadata": {},
   "outputs": [],
   "source": [
    "## taken from key equations notebook\n",
    "## define initial states\n",
    "P1 = 100 * 10**3  ## in Pa\n",
    "V1 = 1.5 ** 0.001 ## in cubic meter\n",
    "n = 1.1\n",
    "P2 = 2 * P1"
   ]
  },
  {
   "cell_type": "code",
   "execution_count": 40,
   "id": "8a8fb781",
   "metadata": {},
   "outputs": [
    {
     "name": "stdout",
     "output_type": "stream",
     "text": [
      "Volume 2: 0.455 cubic meter\n"
     ]
    }
   ],
   "source": [
    "## calculate process function and V2\n",
    "process_f = P1 * V1 ** n \n",
    "V2 = (process_f / P2 ) ** 1/n\n",
    "print('Volume 2: {} cubic meter'.format(round(V2,3)))"
   ]
  },
  {
   "cell_type": "code",
   "execution_count": 45,
   "id": "64b82e43",
   "metadata": {},
   "outputs": [
    {
     "name": "stdout",
     "output_type": "stream",
     "text": [
      "The amount of boundary work 90.909 kJ\n"
     ]
    }
   ],
   "source": [
    "## calculate work done:\n",
    "W_1_2 = (P2 * V2 - P1 * V1) / (1 - n)\n",
    "## print the final answer\n",
    "print('The amount of boundary work {} kJ'.format(round(W_1_2 / 1000,3)))"
   ]
  },
  {
   "cell_type": "markdown",
   "id": "7ada1861",
   "metadata": {},
   "source": [
    "### Question 3"
   ]
  },
  {
   "cell_type": "markdown",
   "id": "853fac39",
   "metadata": {},
   "source": [
    "10 kg of water is stored in a rigid sealed tank in a saturated state composed of 10 wt% vapour and 90 wt% liquid. How big of a tank is used to contain the amount of water at 100$^{\\circ}$C? Determine the internal energy of water at this state. The confined water is then pressurized to 1 MPa by heating up the tank. Represent the process on a P-V diagram including a saturation curve. Estimate the amount of boundary work and change in internal energy associated with this process."
   ]
  },
  {
   "cell_type": "code",
   "execution_count": null,
   "id": "8f0b6ead",
   "metadata": {},
   "outputs": [],
   "source": [
    "m = 10  ## kg\n",
    "quality = 0.1  # quality\n",
    "T = 100 + 273.15\n",
    "P = 1 * 10**6"
   ]
  },
  {
   "cell_type": "markdown",
   "id": "28ea0698",
   "metadata": {},
   "source": [
    "### Question 4"
   ]
  },
  {
   "cell_type": "markdown",
   "id": "e6338078",
   "metadata": {},
   "source": [
    "A spring with a constant 100 N/m is squeezed for 10 mm from rest; estimate the amount of work required. What would be the work done by the spring on the squeezing force? "
   ]
  },
  {
   "cell_type": "code",
   "execution_count": null,
   "id": "175a78e6",
   "metadata": {},
   "outputs": [],
   "source": [
    "# define the given inputs:\n",
    "K_spring = 100 # N/m\n",
    "x2 = 10 * 10**-3\n",
    "x1 = 0"
   ]
  },
  {
   "cell_type": "code",
   "execution_count": null,
   "id": "b8b810f7",
   "metadata": {},
   "outputs": [],
   "source": [
    "# calculate Work done by spring and print it\n",
    "W_spring = 1/2 * K_spring * (x2 ** 2 - x1 **2 ) \n",
    "print(\"Work required: {} J\".format(W_spring))"
   ]
  },
  {
   "cell_type": "code",
   "execution_count": null,
   "id": "282489e0",
   "metadata": {},
   "outputs": [],
   "source": [
    "print(\"Work done by the spring on the squeezing force: - {} J\".format(W_spring))"
   ]
  },
  {
   "cell_type": "markdown",
   "id": "ee18723d",
   "metadata": {},
   "source": [
    "### Question 5"
   ]
  },
  {
   "cell_type": "markdown",
   "id": "5c84c2d5",
   "metadata": {},
   "source": [
    "1 L of air inside an empty cylinder is pressurized under the weight of a 0.5 kg piston; determine the pressure of air inside cylinder if the inside diameter of the cylinder in 8cm given the pressure outside the cylinder is 1 atm; how far the piston moves to get into equilibrium given air follows a polytropic process with n=1.2? (Bonus: assuming a spring is used to reduce the movement distance by 50%, determine spring constant given it starts from rest when the piston is mounted on air at atmospheric pressure). "
   ]
  },
  {
   "cell_type": "code",
   "execution_count": null,
   "id": "20bee3c5",
   "metadata": {},
   "outputs": [],
   "source": [
    "disp = (P_out) / (np.pi * dia ** 2/ 4 )"
   ]
  },
  {
   "cell_type": "code",
   "execution_count": null,
   "id": "05be9446",
   "metadata": {},
   "outputs": [],
   "source": [
    "print('Displacement for the piston: {} m'.format(disp)) "
   ]
  },
  {
   "cell_type": "code",
   "execution_count": null,
   "id": "cd3d8c83",
   "metadata": {},
   "outputs": [],
   "source": [
    "## define the given inputs:\n",
    "V = 1 * 1e-3 ## in cubic meter\n",
    "m = 0.5 # kg of piston \n",
    "dia = 8 * 1e-2 # in m\n",
    "n = 1.2\n",
    "P_out = 101325 # in Pa\n",
    "\n",
    "## do not know how to proceed for this: need to consult with A. Doustahadi"
   ]
  },
  {
   "cell_type": "markdown",
   "id": "8d9b588a",
   "metadata": {},
   "source": [
    "### Question 6"
   ]
  },
  {
   "cell_type": "markdown",
   "id": "2a286f16",
   "metadata": {},
   "source": [
    "10 kg of Helium goes through a polytropic compression process; P1=10kPa, P2=25kPa calculate and compare boundary work for n=1 and n=1.3 if it occupies 1Litre of volume initially; draw the processes on a P-V diagram. "
   ]
  },
  {
   "cell_type": "code",
   "execution_count": 46,
   "id": "c7a65412",
   "metadata": {},
   "outputs": [],
   "source": [
    "from matplotlib import pyplot as plt\n",
    "import numpy as np"
   ]
  },
  {
   "cell_type": "code",
   "execution_count": 52,
   "id": "94d5ca45",
   "metadata": {},
   "outputs": [
    {
     "name": "stdout",
     "output_type": "stream",
     "text": [
      "V2 : 0.0004941881200240433 cubic meter\n"
     ]
    }
   ],
   "source": [
    "P1 = 10 * 10**3\n",
    "P2 = 25 * 10**3\n",
    "n = 1.3\n",
    "V1_real = 1 * 0.001 # in cubic meter\n",
    "V2_real = V1 * (P1 / P2)**(1/n)\n",
    "print(\"V2 : {} cubic meter\".format(V2_real))"
   ]
  },
  {
   "cell_type": "code",
   "execution_count": 54,
   "id": "6dacbf4d",
   "metadata": {},
   "outputs": [
    {
     "name": "stdout",
     "output_type": "stream",
     "text": [
      "work done by gas with n=1.3: -7.849 J\n"
     ]
    }
   ],
   "source": [
    "## calculate work done:\n",
    "W_1_2 = (P2 * V2_real - P1 * V1_real) / (1 - n)\n",
    "print(\"work done by gas with n=1.3: {} J\".format(round(W_1_2,3)))"
   ]
  },
  {
   "cell_type": "code",
   "execution_count": 55,
   "id": "e454af74",
   "metadata": {},
   "outputs": [
    {
     "name": "stdout",
     "output_type": "stream",
     "text": [
      "work done by gas with n=1: -9.163 J\n"
     ]
    }
   ],
   "source": [
    "P1 = 10 * 10**3\n",
    "P2 = 25 * 10**3\n",
    "V1 = 1 * 0.001 # in cubic meter\n",
    "n = 1\n",
    "V2 = V1 * (P1 / P2)**1/n\n",
    "# all of the below are equivalent\n",
    "W_1_2 = P1 * V1 * np.log(V2 / V1)\n",
    "print(\"work done by gas with n=1: {} J\".format(round(W_1_2,3)))"
   ]
  },
  {
   "cell_type": "code",
   "execution_count": 56,
   "id": "12860d8e",
   "metadata": {},
   "outputs": [
    {
     "data": {
      "image/png": "[encoded data removed]",
      "text/plain": [
       "<Figure size 640x480 with 1 Axes>"
      ]
     },
     "metadata": {},
     "output_type": "display_data"
    }
   ],
   "source": [
    "fig = plt.figure()\n",
    "ax1 = fig.add_subplot(111)\n",
    "ax1.loglog([V1_real, V2_real], [P1, P2], '-ok',label='n=1.3',mfc=\"none\",markersize=10)\n",
    "plt.xlabel(\"Volume [cubic meter]\")\n",
    "plt.ylabel(\"Pressure [Pa]\")\n",
    "ax1.loglog([V1, V2], [P1, P2], '-*b',label='n=1',mfc=\"none\",markersize=10)\n",
    "plt.legend()\n",
    "plt.grid(ls='--')"
   ]
  }
 ],
 "metadata": {
  "kernelspec": {
   "display_name": "OER",
   "language": "python",
   "name": "oer"
  },
  "language_info": {
   "codemirror_mode": {
    "name": "ipython",
    "version": 3
   },
   "file_extension": ".py",
   "mimetype": "text/x-python",
   "name": "python",
   "nbconvert_exporter": "python",
   "pygments_lexer": "ipython3",
   "version": "3.9.17"
  },
  "toc": {
   "base_numbering": 1,
   "nav_menu": {},
   "number_sections": true,
   "sideBar": true,
   "skip_h1_title": false,
   "title_cell": "Table of Contents",
   "title_sidebar": "Contents",
   "toc_cell": true,
   "toc_position": {},
   "toc_section_display": true,
   "toc_window_display": false
  }
 },
 "nbformat": 4,
 "nbformat_minor": 5
}
