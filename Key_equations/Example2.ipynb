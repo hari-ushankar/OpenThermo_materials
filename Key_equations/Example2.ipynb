{
 "cells": [
  {
   "cell_type": "markdown",
   "id": "348f4181",
   "metadata": {
    "toc": true
   },
   "source": [
    "<h1>Table of Contents<span class=\"tocSkip\"></span></h1>\n",
    "<div class=\"toc\"><ul class=\"toc-item\"><li><span><a href=\"#Chapter-2.2:-Example-2\" data-toc-modified-id=\"Chapter-2.2:-Example-2-1\"><span class=\"toc-item-num\">1&nbsp;&nbsp;</span><a href=\"https://pressbooks.bccampus.ca/thermo1/chapter/thermodynamic-properties-of-a-state/\" rel=\"nofollow\" target=\"_blank\">Chapter 2.2</a>: Example 2</a></span></li></ul></div>"
   ]
  },
  {
   "cell_type": "markdown",
   "id": "d5ee7e52",
   "metadata": {},
   "source": [
    "# [Chapter 2.2](https://pressbooks.bccampus.ca/thermo1/chapter/thermodynamic-properties-of-a-state/): Example 2"
   ]
  },
  {
   "cell_type": "markdown",
   "id": "3c2a3ff5",
   "metadata": {},
   "source": [
    "A container consists of two sections separated by a membrane. Section A contains $0.5 \\ kg$ of air. Its volume is $0.75 \\ m^3$. Section B contains air of density $0.6 \\ kg/m^3$. Its volume is $0.5 \\ m^3$. If the membrane is broken, and the air in the two sections mixes and reaches a uniform state, what is the specific volume of the air at the final state?\n",
    "\n",
    "![Fig2-3-1](https://pressbooks.bccampus.ca/thermo1/wp-content/uploads/sites/499/2021/06/Fig.-2-3-2.png)"
   ]
  },
  {
   "cell_type": "code",
   "execution_count": 13,
   "id": "2ed0cb28",
   "metadata": {},
   "outputs": [],
   "source": [
    "# Define variables\n",
    "\n",
    "m_A = 0.5 #kg\n",
    "V_A = 0.75 #m^3\n",
    "\n",
    "V_B = 0.5 #m^3\n",
    "rho_B = 0.6 #kg/m^3"
   ]
  },
  {
   "cell_type": "code",
   "execution_count": 14,
   "id": "950b79d5",
   "metadata": {},
   "outputs": [
    {
     "name": "stdout",
     "output_type": "stream",
     "text": [
      "The mass of air in Section B is 0.3 kg\n"
     ]
    }
   ],
   "source": [
    "#Find mass in Section B\n",
    "\n",
    "m_B = V_B * rho_B\n",
    "print(f\"The mass of air in Section B is {m_B} kg\")"
   ]
  },
  {
   "cell_type": "code",
   "execution_count": 15,
   "id": "018cbef1",
   "metadata": {},
   "outputs": [
    {
     "name": "stdout",
     "output_type": "stream",
     "text": [
      "The total mass of air is 0.8 kg\n"
     ]
    }
   ],
   "source": [
    "#Find total mass\n",
    "\n",
    "m = m_A + m_B\n",
    "print(f\"The total mass of air is {m} kg\")"
   ]
  },
  {
   "cell_type": "code",
   "execution_count": 16,
   "id": "82585986",
   "metadata": {},
   "outputs": [
    {
     "name": "stdout",
     "output_type": "stream",
     "text": [
      "The total volume is 1.25 m^3\n"
     ]
    }
   ],
   "source": [
    "#Find total volume\n",
    "\n",
    "V = V_A + V_B\n",
    "print(f\"The total volume is {V} m^3\")"
   ]
  },
  {
   "cell_type": "code",
   "execution_count": 17,
   "id": "d14d31fb",
   "metadata": {},
   "outputs": [
    {
     "name": "stdout",
     "output_type": "stream",
     "text": [
      "The specific volume of air is 1.5625 m^3/kg\n"
     ]
    }
   ],
   "source": [
    "#Find specific volume of air\n",
    "\n",
    "v = V/m\n",
    "print(f\"The specific volume of air is {v} m^3/kg\")"
   ]
  },
  {
   "cell_type": "code",
   "execution_count": null,
   "id": "b338ef94",
   "metadata": {},
   "outputs": [],
   "source": []
  }
 ],
 "metadata": {
  "kernelspec": {
   "display_name": "Python 3 (ipykernel)",
   "language": "python",
   "name": "python3"
  },
  "language_info": {
   "codemirror_mode": {
    "name": "ipython",
    "version": 3
   },
   "file_extension": ".py",
   "mimetype": "text/x-python",
   "name": "python",
   "nbconvert_exporter": "python",
   "pygments_lexer": "ipython3",
   "version": "3.7.16"
  },
  "toc": {
   "base_numbering": 1,
   "nav_menu": {},
   "number_sections": true,
   "sideBar": true,
   "skip_h1_title": false,
   "title_cell": "Table of Contents",
   "title_sidebar": "Contents",
   "toc_cell": true,
   "toc_position": {},
   "toc_section_display": true,
   "toc_window_display": false
  }
 },
 "nbformat": 4,
 "nbformat_minor": 5
}
