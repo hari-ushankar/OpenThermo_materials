{
 "cells": [
  {
   "cell_type": "markdown",
   "id": "4dc1dea3",
   "metadata": {
    "toc": true
   },
   "source": [
    "<h1>Table of Contents<span class=\"tocSkip\"></span></h1>\n",
    "<div class=\"toc\"><ul class=\"toc-item\"><li><span><a href=\"#Chapter-3.1-:-Example-1\" data-toc-modified-id=\"Chapter-3.1-:-Example-1-1\"><span class=\"toc-item-num\">1&nbsp;&nbsp;</span><a href=\"https://pressbooks.bccampus.ca/thermo1/chapter/3-1-ideal-gas-and-ideal-gas-equation-of-state/\" rel=\"nofollow\" target=\"_blank\">Chapter 3.1</a> : Example 1</a></span><ul class=\"toc-item\"><li><span><a href=\"#Solution\" data-toc-modified-id=\"Solution-1.1\"><span class=\"toc-item-num\">1.1&nbsp;&nbsp;</span>Solution</a></span></li></ul></li></ul></div>"
   ]
  },
  {
   "cell_type": "markdown",
   "id": "303b3c1c",
   "metadata": {},
   "source": [
    "# [Chapter 3.1](https://pressbooks.bccampus.ca/thermo1/chapter/3-1-ideal-gas-and-ideal-gas-equation-of-state/) : Example 1"
   ]
  },
  {
   "cell_type": "markdown",
   "id": "d9a18fef",
   "metadata": {},
   "source": [
    "Two tanks contain methane. For the given conditions, methane can be treated as an ideal gas.\n",
    "\n",
    "Tank 1 has a volume of $0.3 \\ m^3$, and is at a temperature of $20 \\ °C$ and a pressure of $300 \\ kPa$.\n",
    "Tank 2 contains $1.5 \\ kg$ of methane, and is at a temperature of $30 \\ °C$ and a pressure of $800 \\ kPa$.\n",
    "The partition between the two tanks is removed to allow methane in the tanks to mix and reach equilibrium. What is the equilibrium pressure if the temperature of the two tanks is $25 \\ °C$ at equilibrium?\n",
    "\n",
    "\n",
    "![Fig2-3-1](https://pressbooks.bccampus.ca/thermo1/wp-content/uploads/sites/499/2021/07/Fig.-3-2.1.png)"
   ]
  },
  {
   "cell_type": "markdown",
   "id": "4cdf0df3",
   "metadata": {},
   "source": [
    "## Solution\n",
    "\n",
    "Methane is treated as an ideal gas at the given conditions.\n",
    "\n",
    "From [Table G1](https://pressbooks.bccampus.ca/thermo1/back-matter/properties-of-various-substances/#TG1)  https://pressbooks.bccampus.ca/thermo1/back-matter/properties-of-various-substances/#TG1 : $R=0.5182 \\ kJ/kgK$ for methane.\n",
    "\n",
    "Apply the ideal gas law: $P\\mathbb{V}=mRT$ to both initial and final conditions of methane in the two tanks to find missing values (mass, volume) then apply ideal gas law to final condition."
   ]
  },
  {
   "cell_type": "code",
   "execution_count": 1,
   "id": "0e00ed40",
   "metadata": {},
   "outputs": [
    {
     "name": "stdout",
     "output_type": "stream",
     "text": [
      "Specific Gas Constant (R) for Methane: 518.2675 J/kg-K\n"
     ]
    }
   ],
   "source": [
    "import CoolProp.CoolProp as CP\n",
    "\n",
    "# Define the substance (methane)\n",
    "substance = 'Methane'\n",
    "\n",
    "# Get the molar mass of methane from CoolProp\n",
    "molar_mass = CP.PropsSI('MOLARMASS', substance)\n",
    "\n",
    "# Universal gas constant (J/mol-K)\n",
    "R_universal = 8.31446261815324\n",
    "\n",
    "# Calculate the specific gas constant (J/kg-K)\n",
    "R_specific = R_universal / molar_mass\n",
    "\n",
    "print(f\"Specific Gas Constant (R) for Methane: {R_specific:.4f} J/kg-K\")"
   ]
  },
  {
   "cell_type": "code",
   "execution_count": 6,
   "id": "634e1b85",
   "metadata": {},
   "outputs": [
    {
     "name": "stdout",
     "output_type": "stream",
     "text": [
      "Specific Gas Constant (R) for Methane: 518.2675 kJ/kg-K\n"
     ]
    }
   ],
   "source": [
    "#Define variables and import libraries \n",
    "import numpy\n",
    "\n",
    "#R for methane *******COULD THIS BE PULLED FROM COOLPROP?????\n",
    "R = 0.5182 * 1000 #J/kgK\n",
    "## pulling info from CoolProp\n",
    "\n",
    "import CoolProp.CoolProp as CP\n",
    "# Define the substance (methane)\n",
    "substance = 'Methane'\n",
    "# Get the molar mass of methane from CoolProp\n",
    "molar_mass = CP.PropsSI('MOLARMASS', substance)\n",
    "# Universal gas constant (J/mol-K)\n",
    "R_universal = 8.31446261815324\n",
    "# Calculate the specific gas constant (J/kg-K)\n",
    "R_specific = R_universal / molar_mass\n",
    "print(f\"Specific Gas Constant (R) for Methane: {R_specific:.4f} kJ/kg-K\")\n",
    "\n",
    "#Tank 1:\n",
    "T1 = 20 + 273 #K\n",
    "P1 = 300 * 1000 #Pa\n",
    "V1 = 0.3 #m^3\n",
    "\n",
    "#Tank 2:\n",
    "T2 = 30 + 273 #K\n",
    "P2 = 800 * 1000 #Pa\n",
    "m2 = 1.5 #kg\n",
    "\n",
    "#Final:\n",
    "T = 25 + 273 #K"
   ]
  },
  {
   "cell_type": "code",
   "execution_count": 9,
   "id": "5c2f7c0e",
   "metadata": {},
   "outputs": [
    {
     "name": "stdout",
     "output_type": "stream",
     "text": [
      "Mass in tank 1 is 0.5928 kg (by manual entry from textbook)\n",
      "Mass in tank 1 is 0.5927 kg (calculated using CoolProp query)\n"
     ]
    }
   ],
   "source": [
    "#Tank 1 at the initial condition\n",
    "#Find m1:\n",
    "\n",
    "m1 = (P1 * V1) / (R * T1)\n",
    "print(f\"Mass in tank 1 is {round (m1 , 4)} kg (by manual entry from textbook)\")\n",
    "\n",
    "#Tank 1 at the initial condition\n",
    "#Find m1:\n",
    "\n",
    "m1 = (P1 * V1) / (R_specific * T1)\n",
    "print(f\"Mass in tank 1 is {round (m1 , 4)} kg (calculated using CoolProp query)\")"
   ]
  },
  {
   "cell_type": "code",
   "execution_count": 11,
   "id": "86624138",
   "metadata": {},
   "outputs": [
    {
     "name": "stdout",
     "output_type": "stream",
     "text": [
      "Volume of tank 2 is 0.2944 m^3\n"
     ]
    }
   ],
   "source": [
    "#Tank 2 at the initial condition\n",
    "#Find V2:\n",
    "\n",
    "V2 = m2 * R * T2/(P2)\n",
    "print(f\"Volume of tank 2 is {round (V2 , 4)} m^3\")"
   ]
  },
  {
   "cell_type": "code",
   "execution_count": 35,
   "id": "d295e149",
   "metadata": {},
   "outputs": [
    {
     "name": "stdout",
     "output_type": "stream",
     "text": [
      "Volume of tank 2 is 0.5944 m^3\n",
      "Mass in tank 1 is 2.0928 kg\n"
     ]
    }
   ],
   "source": [
    "#Find total volume and mass in tank\n",
    "\n",
    "V = V1 + V2\n",
    "print(f\"Volume of tank 2 is {round (V , 4)} m^3\")\n",
    "m = m1 + m2\n",
    "print(f\"Mass in tank 1 is {round (m , 4)} kg\")"
   ]
  },
  {
   "cell_type": "code",
   "execution_count": 36,
   "id": "4bce1b98",
   "metadata": {},
   "outputs": [
    {
     "name": "stdout",
     "output_type": "stream",
     "text": [
      "Pressure in tank after partition is removed is 543691.02 Pa\n",
      "Pressure in tank after partition is removed is 543.69 kPa\n"
     ]
    }
   ],
   "source": [
    "#Find pressure after partition is removed\n",
    "\n",
    "P = (m* R * T) / V\n",
    "print(f\"Pressure in tank after partition is removed is {round (P , 2)} Pa\")\n",
    "print(f\"Pressure in tank after partition is removed is {round (P / 1000, 2)} kPa\")"
   ]
  },
  {
   "cell_type": "code",
   "execution_count": null,
   "id": "d174ee6e",
   "metadata": {},
   "outputs": [],
   "source": []
  },
  {
   "cell_type": "code",
   "execution_count": null,
   "id": "5240b12e",
   "metadata": {},
   "outputs": [],
   "source": []
  }
 ],
 "metadata": {
  "kernelspec": {
   "display_name": "OER",
   "language": "python",
   "name": "oer"
  },
  "language_info": {
   "codemirror_mode": {
    "name": "ipython",
    "version": 3
   },
   "file_extension": ".py",
   "mimetype": "text/x-python",
   "name": "python",
   "nbconvert_exporter": "python",
   "pygments_lexer": "ipython3",
   "version": "3.9.17"
  },
  "toc": {
   "base_numbering": 1,
   "nav_menu": {},
   "number_sections": true,
   "sideBar": true,
   "skip_h1_title": false,
   "title_cell": "Table of Contents",
   "title_sidebar": "Contents",
   "toc_cell": true,
   "toc_position": {},
   "toc_section_display": true,
   "toc_window_display": false
  }
 },
 "nbformat": 4,
 "nbformat_minor": 5
}
