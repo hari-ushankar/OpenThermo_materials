{
 "cells": [
  {
   "cell_type": "markdown",
   "id": "ba0fae29",
   "metadata": {
    "toc": true
   },
   "source": [
    "<h1>Table of Contents<span class=\"tocSkip\"></span></h1>\n",
    "<div class=\"toc\"><ul class=\"toc-item\"><li><span><a href=\"#Chapter-2.2:-Example-1\" data-toc-modified-id=\"Chapter-2.2:-Example-1-1\"><span class=\"toc-item-num\">1&nbsp;&nbsp;</span><a href=\"https://pressbooks.bccampus.ca/thermo1/chapter/thermodynamic-properties-of-a-state/\" rel=\"nofollow\" target=\"_blank\">Chapter 2.2</a>: Example 1</a></span><ul class=\"toc-item\"><li><span><a href=\"#Solution\" data-toc-modified-id=\"Solution-1.1\"><span class=\"toc-item-num\">1.1&nbsp;&nbsp;</span>Solution</a></span></li></ul></li></ul></div>"
   ]
  },
  {
   "cell_type": "markdown",
   "id": "60e1f570",
   "metadata": {},
   "source": [
    "# [Chapter 2.2](https://pressbooks.bccampus.ca/thermo1/chapter/thermodynamic-properties-of-a-state/): Example 1"
   ]
  },
  {
   "cell_type": "markdown",
   "id": "14061da0",
   "metadata": {},
   "source": [
    "Consider a piston-cylinder device containing a gas. The mass of the piston is $10 \\ kg$. The diameter of the piston is $20 \\ cm$. The atmospheric pressure is $1 \\ atm = 101.325 \\ kPa$. What is the absolute pressure of the gas in the cylinder assuming the piston is in static equilibrium? The friction between the piston and the cylinder is negligible.\n",
    "\n",
    "![Fig2-3-1](https://pressbooks.bccampus.ca/thermo1/wp-content/uploads/sites/499/2021/06/Fig.2-3-1.png)"
   ]
  },
  {
   "cell_type": "markdown",
   "id": "7f4a8249",
   "metadata": {},
   "source": [
    "## Solution\n",
    "\n",
    "There are three forces acting on the piston: <br>\n",
    "Weight of the piston: $F_w = mg$ <br>\n",
    "Force due to the atmospheric pressure: $F_{atm} = P_{atm}A$ <br>\n",
    "Force due to the gas pressure: $F_{gas} = P_{gas}A$ <br>\n",
    "<br>\n",
    "As the piston is in static equilibrium, the resultant force on the piston is zero.\n",
    "$\\Sigma F = F_{gas} - (F_{w} + F_{atm})$ = 0"
   ]
  },
  {
   "cell_type": "code",
   "execution_count": 38,
   "id": "a294d104",
   "metadata": {},
   "outputs": [],
   "source": [
    "#Define variables and import libraries \n",
    "import numpy\n",
    "\n",
    "m = 10 #kg\n",
    "dia = 0.2 #m\n",
    "Patm = 101.325 * 1000 #Pa"
   ]
  },
  {
   "cell_type": "code",
   "execution_count": 39,
   "id": "45ef4182",
   "metadata": {},
   "outputs": [
    {
     "name": "stdout",
     "output_type": "stream",
     "text": [
      "The force from the mass 98.1 N\n",
      "The area of the piston is 0.03 m^2\n",
      "The pressure due to the mass is 3183.22 Pa\n"
     ]
    }
   ],
   "source": [
    "#Find weight from mass:\n",
    "\n",
    "Fw = (m * 9.81)\n",
    "print(f\"The force from the mass {round (Fw , 2)} N\")\n",
    "\n",
    "# Find area of piston\n",
    "A = numpy.pi * (dia ** 2) / 4\n",
    "print(f\"The area of the piston is {round (a , 2)} m^2\")\n",
    "\n",
    "#Find pressure from mass:\n",
    "Pm = Fw / A\n",
    "print(f\"The pressure due to the mass is {round (Fatm , 2)} Pa\")\n"
   ]
  },
  {
   "cell_type": "code",
   "execution_count": 40,
   "id": "487077f1",
   "metadata": {},
   "outputs": [
    {
     "name": "stdout",
     "output_type": "stream",
     "text": [
      "The pressure on the gas is 104447.62 Pa\n",
      "The pressure on the gas is 104.45 kPa\n"
     ]
    }
   ],
   "source": [
    "#Find pressure on the gas:\n",
    "Pgas = Pm + Patm\n",
    "print(f\"The pressure on the gas is {round (Pgas , 2)} Pa\")\n",
    "print(f\"The pressure on the gas is {round (Pgas / 1000 , 2)} kPa\")"
   ]
  },
  {
   "cell_type": "code",
   "execution_count": null,
   "id": "798c6841",
   "metadata": {},
   "outputs": [],
   "source": []
  }
 ],
 "metadata": {
  "kernelspec": {
   "display_name": "Python 3 (ipykernel)",
   "language": "python",
   "name": "python3"
  },
  "language_info": {
   "codemirror_mode": {
    "name": "ipython",
    "version": 3
   },
   "file_extension": ".py",
   "mimetype": "text/x-python",
   "name": "python",
   "nbconvert_exporter": "python",
   "pygments_lexer": "ipython3",
   "version": "3.7.16"
  },
  "toc": {
   "base_numbering": 1,
   "nav_menu": {},
   "number_sections": true,
   "sideBar": true,
   "skip_h1_title": false,
   "title_cell": "Table of Contents",
   "title_sidebar": "Contents",
   "toc_cell": true,
   "toc_position": {},
   "toc_section_display": true,
   "toc_window_display": false
  }
 },
 "nbformat": 4,
 "nbformat_minor": 5
}
