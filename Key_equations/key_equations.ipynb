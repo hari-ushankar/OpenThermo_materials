{
 "cells": [
  {
   "cell_type": "markdown",
   "id": "7fe990c4",
   "metadata": {
    "toc": true
   },
   "source": [
    "<h1>Table of Contents<span class=\"tocSkip\"></span></h1>\n",
    "<div class=\"toc\"><ul class=\"toc-item\"><li><span><a href=\"#Equations-for-polytropic-Processes\" data-toc-modified-id=\"Equations-for-polytropic-Processes-1\"><span class=\"toc-item-num\">1&nbsp;&nbsp;</span>Equations for polytropic Processes</a></span></li></ul></div>"
   ]
  },
  {
   "cell_type": "markdown",
   "id": "cb90ce34",
   "metadata": {},
   "source": [
    "Change in specific internal energy for all fluids: $\\Delta u = u_2-u_1$"
   ]
  },
  {
   "cell_type": "code",
   "execution_count": null,
   "id": "5edc56bd",
   "metadata": {},
   "outputs": [],
   "source": [
    "u1 = \n",
    "u2 = \n",
    "delta_u = u2 - u1"
   ]
  },
  {
   "cell_type": "markdown",
   "id": "93c0e3de",
   "metadata": {},
   "source": [
    "Change in specific internal energy for ideal gases: $\\Delta u = C_v\\left(T_2-T_1\\right)$"
   ]
  },
  {
   "cell_type": "code",
   "execution_count": null,
   "id": "1bab6bc9",
   "metadata": {},
   "outputs": [],
   "source": [
    "C_v = \n",
    "T1 = \n",
    "T2 = \n",
    "delta_u = C_v*(T2 - T1)"
   ]
  },
  {
   "cell_type": "markdown",
   "id": "26252521",
   "metadata": {},
   "source": [
    "Specific heat transfer: $q=\\displaystyle\\frac{Q}{m}$"
   ]
  },
  {
   "cell_type": "code",
   "execution_count": null,
   "id": "b8dedd09",
   "metadata": {},
   "outputs": [],
   "source": [
    "Q = \n",
    "m = \n",
    "q = Q / m"
   ]
  },
  {
   "cell_type": "markdown",
   "id": "7f6fe54f",
   "metadata": {},
   "source": [
    "The first law of thermodynamics for **closed system**s: $\\Delta U = U_2-U_1 = {}_{1}Q_{2} - {}_{1}W_{2}$"
   ]
  },
  {
   "cell_type": "code",
   "execution_count": null,
   "id": "21d45e9d",
   "metadata": {},
   "outputs": [],
   "source": [
    "U1 = \n",
    "U2 = \n",
    "Q_1_2 = \n",
    "W_1_2 =\n",
    "delta_U = U2 - U1 \n",
    "delta_U_check = Q_1_2 - W_1_2"
   ]
  },
  {
   "cell_type": "markdown",
   "id": "8ea34f6b",
   "metadata": {},
   "source": [
    "## Equations for polytropic Processes "
   ]
  },
  {
   "cell_type": "markdown",
   "id": "f2009feb",
   "metadata": {},
   "source": [
    "Process function: ${P}{v}^{n}= \\rm{constant}$"
   ]
  },
  {
   "cell_type": "code",
   "execution_count": null,
   "id": "35e94280",
   "metadata": {},
   "outputs": [],
   "source": [
    "P = \n",
    "v = \n",
    "n = \n",
    "process_function = P * v ** n"
   ]
  },
  {
   "cell_type": "markdown",
   "id": "35617fd7",
   "metadata": {},
   "source": [
    "Boundary work for **real gases** :\n",
    "\n",
    "\n",
    "if $n \\neq 1$, ${}_{1}W_{2}=\\displaystyle\\frac{{P}_\\mathbf{2}\\mathbb{V}_\\mathbf{2}-{P}_\\mathbf{1}\\mathbb{V}_\\mathbf{1}}{1-n}$  "
   ]
  },
  {
   "cell_type": "code",
   "execution_count": null,
   "id": "63d01a84",
   "metadata": {},
   "outputs": [],
   "source": [
    "P1 = \n",
    "V1 = \n",
    "P2 = \n",
    "V2 = \n",
    "n = \n",
    "W_1_2 = (P2*V2 - P1*V1) / (1 - n)"
   ]
  },
  {
   "cell_type": "markdown",
   "id": "0c043d2d",
   "metadata": {},
   "source": [
    "if $n = 1$, ${}_{1}W_{2}={P}_\\mathbf{1}\\mathbb{V}_\\mathbf{1}{ln}{\\displaystyle\\frac{\\mathbb{V}_\\mathbf{2}}{\\mathbb{V}_\\mathbf{1}}}={P}_\\mathbf{2}\\mathbb{V}_\\mathbf{2}{ln}{\\displaystyle\\frac{\\mathbb{V}_\\mathbf{2}}{\\mathbb{V}_\\mathbf{1}}}$\n",
    "\n",
    "(or) \n",
    "\n",
    "${}_{1}W_{2}={P}_\\mathbf{1}\\mathbb{V}_\\mathbf{1}{ln}{\\displaystyle\\frac{{P}_\\mathbf{1}}{{P}_\\mathbf{2}}}={P}_\\mathbf{2}\\mathbb{V}_\\mathbf{2}{ln}{\\displaystyle\\frac{{P}_\\mathbf{1}}{{P}_\\mathbf{2}}}$"
   ]
  },
  {
   "cell_type": "code",
   "execution_count": null,
   "id": "6984c390",
   "metadata": {},
   "outputs": [],
   "source": [
    "P1 = \n",
    "V1 = \n",
    "P2 = \n",
    "V2 = \n",
    "W_1_2 = (P1 * V1 * log(V2 / V1))\n",
    "W_1_2 = (P2 * V2 * log(V2 / V1))\n",
    "W_1_2 = (P1 * V1 * log(P1 / P2))\n",
    "W_1_2 = (P2 * V2 * log(P1 / P2))"
   ]
  },
  {
   "cell_type": "code",
   "execution_count": null,
   "id": "4924bb6e",
   "metadata": {},
   "outputs": [],
   "source": [
    "\n"
   ]
  }
 ],
 "metadata": {
  "kernelspec": {
   "display_name": "ase_env",
   "language": "python",
   "name": "ase_env"
  },
  "language_info": {
   "codemirror_mode": {
    "name": "ipython",
    "version": 3
   },
   "file_extension": ".py",
   "mimetype": "text/x-python",
   "name": "python",
   "nbconvert_exporter": "python",
   "pygments_lexer": "ipython3",
   "version": "3.7.16"
  },
  "toc": {
   "base_numbering": 1,
   "nav_menu": {},
   "number_sections": true,
   "sideBar": true,
   "skip_h1_title": false,
   "title_cell": "Table of Contents",
   "title_sidebar": "Contents",
   "toc_cell": true,
   "toc_position": {},
   "toc_section_display": true,
   "toc_window_display": false
  }
 },
 "nbformat": 4,
 "nbformat_minor": 5
}
