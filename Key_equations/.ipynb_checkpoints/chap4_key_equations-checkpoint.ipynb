{
 "cells": [
  {
   "cell_type": "markdown",
   "id": "7fe990c4",
   "metadata": {
    "toc": true
   },
   "source": [
    "<h1>Table of Contents<span class=\"tocSkip\"></span></h1>\n",
    "<div class=\"toc\"><ul class=\"toc-item\"><li><span><a href=\"#Key-equations-from-Chapter-4,-'Introduction-to-Engineering-Thermodynamics'\" data-toc-modified-id=\"Key-equations-from-Chapter-4,-'Introduction-to-Engineering-Thermodynamics'-1\"><span class=\"toc-item-num\">1&nbsp;&nbsp;</span>Key equations from <a href=\"https://pressbooks.bccampus.ca/thermo1/chapter/key-equations-4/\" rel=\"nofollow\" target=\"_blank\">Chapter 4, 'Introduction to Engineering Thermodynamics'</a></a></span><ul class=\"toc-item\"><li><span><a href=\"#Frequently-used-equations:\" data-toc-modified-id=\"Frequently-used-equations:-1.1\"><span class=\"toc-item-num\">1.1&nbsp;&nbsp;</span>Frequently used equations:</a></span></li></ul></li><li><span><a href=\"#Equations-for-polytropic-processes:\" data-toc-modified-id=\"Equations-for-polytropic-processes:-2\"><span class=\"toc-item-num\">2&nbsp;&nbsp;</span>Equations for polytropic processes:</a></span><ul class=\"toc-item\"><li><span><a href=\"#Process-function:\" data-toc-modified-id=\"Process-function:-2.1\"><span class=\"toc-item-num\">2.1&nbsp;&nbsp;</span>Process function:</a></span></li><li><span><a href=\"#Boundary-work-for-real-gases-:\" data-toc-modified-id=\"Boundary-work-for-real-gases-:-2.2\"><span class=\"toc-item-num\">2.2&nbsp;&nbsp;</span>Boundary work for <strong>real gases</strong> :</a></span></li><li><span><a href=\"#Specific-boundary-work-for-real-gases-:\" data-toc-modified-id=\"Specific-boundary-work-for-real-gases-:-2.3\"><span class=\"toc-item-num\">2.3&nbsp;&nbsp;</span>Specific boundary work for <strong>real gases</strong> :</a></span></li><li><span><a href=\"#Boundary-work-for-ideal-gases:\" data-toc-modified-id=\"Boundary-work-for-ideal-gases:-2.4\"><span class=\"toc-item-num\">2.4&nbsp;&nbsp;</span>Boundary work for ideal gases:</a></span></li><li><span><a href=\"#Specific-boundary-work-for-ideal-gases:\" data-toc-modified-id=\"Specific-boundary-work-for-ideal-gases:-2.5\"><span class=\"toc-item-num\">2.5&nbsp;&nbsp;</span>Specific boundary work for ideal gases:</a></span></li></ul></li></ul></div>"
   ]
  },
  {
   "cell_type": "markdown",
   "id": "10425b09",
   "metadata": {
    "heading_collapsed": true
   },
   "source": [
    "## Key equations from [Chapter 4, 'Introduction to Engineering Thermodynamics'](https://pressbooks.bccampus.ca/thermo1/chapter/key-equations-4/)"
   ]
  },
  {
   "cell_type": "markdown",
   "id": "9b876db6",
   "metadata": {
    "hidden": true
   },
   "source": [
    "### Frequently used equations:"
   ]
  },
  {
   "cell_type": "markdown",
   "id": "cb90ce34",
   "metadata": {
    "hidden": true
   },
   "source": [
    "Change in specific internal energy for all fluids: $\\Delta u = u_2-u_1$"
   ]
  },
  {
   "cell_type": "code",
   "execution_count": null,
   "id": "5edc56bd",
   "metadata": {
    "hidden": true
   },
   "outputs": [],
   "source": [
    "u1 = \n",
    "u2 = \n",
    "delta_u = u2 - u1"
   ]
  },
  {
   "cell_type": "markdown",
   "id": "93c0e3de",
   "metadata": {
    "hidden": true
   },
   "source": [
    "Change in specific internal energy for ideal gases: $\\Delta u = C_v\\left(T_2-T_1\\right)$"
   ]
  },
  {
   "cell_type": "code",
   "execution_count": null,
   "id": "1bab6bc9",
   "metadata": {
    "hidden": true
   },
   "outputs": [],
   "source": [
    "C_v = \n",
    "T1 = \n",
    "T2 =\n",
    "delta_u = C_v * (T2 - T1)"
   ]
  },
  {
   "cell_type": "markdown",
   "id": "26252521",
   "metadata": {
    "hidden": true
   },
   "source": [
    "Specific heat transfer: $q=\\displaystyle\\frac{Q}{m}$"
   ]
  },
  {
   "cell_type": "code",
   "execution_count": null,
   "id": "b8dedd09",
   "metadata": {
    "hidden": true
   },
   "outputs": [],
   "source": [
    "Q = \n",
    "m = \n",
    "q = Q / m"
   ]
  },
  {
   "cell_type": "markdown",
   "id": "50d6efe4",
   "metadata": {
    "hidden": true
   },
   "source": [
    "Boundary work: ${}_{1}W_{2}=\\displaystyle\\int_{1}^{2}{Pd\\mathbb{V}\\ }$"
   ]
  },
  {
   "cell_type": "code",
   "execution_count": null,
   "id": "1cd0a64b",
   "metadata": {
    "hidden": true
   },
   "outputs": [],
   "source": [
    "## use a simple summation to do the integration\n"
   ]
  },
  {
   "cell_type": "markdown",
   "id": "3bea072a",
   "metadata": {
    "hidden": true
   },
   "source": [
    "Spring work: $W_{spring}=\\displaystyle\\int_{1}^{2}{Fdx=}\\displaystyle\\frac{1}{2}K\\left(x_2^2-x_1^2\\right)$"
   ]
  },
  {
   "cell_type": "code",
   "execution_count": null,
   "id": "8a07ef96",
   "metadata": {
    "hidden": true
   },
   "outputs": [],
   "source": [
    "# please check if the units are all consistent:\n",
    "K_spring = \n",
    "x2 = \n",
    "x1 = \n",
    "W_spring = 1/2 * K_spring * (x2 ** 2 - x1 **2 ) "
   ]
  },
  {
   "cell_type": "markdown",
   "id": "7f6fe54f",
   "metadata": {
    "hidden": true
   },
   "source": [
    "The first law of thermodynamics for **closed system**s: $\\Delta U = U_2-U_1 = {}_{1}Q_{2} - {}_{1}W_{2}$"
   ]
  },
  {
   "cell_type": "code",
   "execution_count": null,
   "id": "21d45e9d",
   "metadata": {
    "hidden": true
   },
   "outputs": [],
   "source": [
    "U1 = \n",
    "U2 = \n",
    "Q_1_2 = \n",
    "W_1_2 = \n",
    "delta_U = U2 - U1\n",
    "delta_U_check = Q_1_2 - W_1_2"
   ]
  },
  {
   "cell_type": "markdown",
   "id": "8ea34f6b",
   "metadata": {},
   "source": [
    "## Equations for polytropic processes:"
   ]
  },
  {
   "cell_type": "markdown",
   "id": "018af355",
   "metadata": {
    "heading_collapsed": true
   },
   "source": [
    "### Process function: "
   ]
  },
  {
   "cell_type": "markdown",
   "id": "f2009feb",
   "metadata": {
    "hidden": true
   },
   "source": [
    "${P}{v}^{n}= \\rm{constant}$"
   ]
  },
  {
   "cell_type": "code",
   "execution_count": null,
   "id": "35e94280",
   "metadata": {
    "hidden": true
   },
   "outputs": [],
   "source": [
    "P = \n",
    "v = \n",
    "n = \n",
    "process_f = P * v ** n"
   ]
  },
  {
   "cell_type": "markdown",
   "id": "b5554a8a",
   "metadata": {
    "heading_collapsed": true
   },
   "source": [
    "### Boundary work for **real gases** :"
   ]
  },
  {
   "cell_type": "markdown",
   "id": "35617fd7",
   "metadata": {
    "hidden": true
   },
   "source": [
    "if $n \\neq 1$, ${}_{1}W_{2}=\\displaystyle\\frac{{P}_\\mathbf{2}\\mathbb{V}_\\mathbf{2}-{P}_\\mathbf{1}\\mathbb{V}_\\mathbf{1}}{1-n}$  "
   ]
  },
  {
   "cell_type": "code",
   "execution_count": null,
   "id": "63d01a84",
   "metadata": {
    "hidden": true
   },
   "outputs": [],
   "source": [
    "P1 = \n",
    "V1 = \n",
    "P2 = \n",
    "V2 = \n",
    "n = \n",
    "W_1_2 = (P2 * V2 - P1 * V1) / (1 - n)"
   ]
  },
  {
   "cell_type": "code",
   "execution_count": null,
   "id": "10f93e70",
   "metadata": {
    "hidden": true
   },
   "outputs": [],
   "source": [
    "P1 = \n",
    "V1 = \n",
    "P2 = \n",
    "V2 = \n",
    "n = \n",
    "W_1_2 = (P2 * V2 - P1 * V1) / (1 - n)"
   ]
  },
  {
   "cell_type": "markdown",
   "id": "0c043d2d",
   "metadata": {
    "hidden": true
   },
   "source": [
    "if $n = 1$, ${}_{1}W_{2}={P}_\\mathbf{1}\\mathbb{V}_\\mathbf{1}{ln}{\\displaystyle\\frac{\\mathbb{V}_\\mathbf{2}}{\\mathbb{V}_\\mathbf{1}}}={P}_\\mathbf{2}\\mathbb{V}_\\mathbf{2}{ln}{\\displaystyle\\frac{\\mathbb{V}_\\mathbf{2}}{\\mathbb{V}_\\mathbf{1}}}$\n",
    "\n",
    "(or) \n",
    "\n",
    "${}_{1}W_{2}={P}_\\mathbf{1}\\mathbb{V}_\\mathbf{1}{ln}{\\displaystyle\\frac{{P}_\\mathbf{1}}{{P}_\\mathbf{2}}}={P}_\\mathbf{2}\\mathbb{V}_\\mathbf{2}{ln}{\\displaystyle\\frac{{P}_\\mathbf{1}}{{P}_\\mathbf{2}}}$"
   ]
  },
  {
   "cell_type": "code",
   "execution_count": null,
   "id": "6984c390",
   "metadata": {
    "hidden": true
   },
   "outputs": [],
   "source": [
    "P1 = \n",
    "V1 = \n",
    "P2 = \n",
    "V2 = \n",
    "# all of the below are equivalent\n",
    "W_1_2 = P1 * V1 * log(V2 / V1)\n",
    "W_1_2 = P2 * V2 * log(V2 / V1)\n",
    "W_1_2 = P1 * V1 * log(P1 / P2)\n",
    "W_1_2 = P2 * V2 * log(P1 / P2)"
   ]
  },
  {
   "cell_type": "markdown",
   "id": "ee2fb51e",
   "metadata": {
    "heading_collapsed": true
   },
   "source": [
    "### Specific boundary work for **real gases** :"
   ]
  },
  {
   "cell_type": "markdown",
   "id": "43f18bad",
   "metadata": {
    "hidden": true
   },
   "source": [
    "if $n \\neq 1$, ${}_{1}w_{2}=\\displaystyle\\frac{{P}_\\mathbf{2}\\mathbb{v}_\\mathbf{2}-{P}_\\mathbf{1}\\mathbb{v}_\\mathbf{1}}{1-n}$  "
   ]
  },
  {
   "cell_type": "code",
   "execution_count": null,
   "id": "7ca8ebbb",
   "metadata": {
    "hidden": true
   },
   "outputs": [],
   "source": [
    "P1 = \n",
    "v1 = V1 / m\n",
    "P2 = \n",
    "v2 = V2 / m\n",
    "n = \n",
    "w_1_2 = (P2 * v2 - P1 * v1) / (1 - n)"
   ]
  },
  {
   "cell_type": "markdown",
   "id": "beb8f53b",
   "metadata": {
    "hidden": true
   },
   "source": [
    "if $n = 1$, ${}_{1}w_{2}={P}_\\mathbf{1}\\mathbb{v}_\\mathbf{1}{ln}{\\displaystyle\\frac{\\mathbb{v}_\\mathbf{2}}{\\mathbb{v}_\\mathbf{1}}}={P}_\\mathbf{2}\\mathbb{v}_\\mathbf{2}{ln}{\\displaystyle\\frac{\\mathbb{v}_\\mathbf{2}}{\\mathbb{v}_\\mathbf{1}}}$\n",
    "\n",
    "(or) \n",
    "\n",
    "${}_{1}w_{2}={P}_\\mathbf{1}\\mathbb{v}_\\mathbf{1}{ln}{\\displaystyle\\frac{{P}_\\mathbf{1}}{{P}_\\mathbf{2}}}={P}_\\mathbf{2}\\mathbb{v}_\\mathbf{2}{ln}{\\displaystyle\\frac{{P}_\\mathbf{1}}{{P}_\\mathbf{2}}}$"
   ]
  },
  {
   "cell_type": "code",
   "execution_count": null,
   "id": "0ab3f96a",
   "metadata": {
    "hidden": true
   },
   "outputs": [],
   "source": [
    "m = \n",
    "P1 = \n",
    "v1 = V1 / m\n",
    "P2 = \n",
    "v2 = V2 / m\n",
    "# all of the below are equivalent\n",
    "w_1_2 = P1 * v1 * log(v2 / v1)\n",
    "w_1_2 = P2 * v2 * log(v2 / v1)\n",
    "w_1_2 = P1 * v1 * log(P1 / P2)\n",
    "w_1_2 = P2 * v2 * log(P1 / P2)"
   ]
  },
  {
   "cell_type": "markdown",
   "id": "d2493dc3",
   "metadata": {
    "heading_collapsed": true
   },
   "source": [
    "### Boundary work for ideal gases:"
   ]
  },
  {
   "cell_type": "markdown",
   "id": "2ee09155",
   "metadata": {
    "hidden": true
   },
   "source": [
    "if $n \\neq 1$, ${}_{1}W_{2}=\\displaystyle\\frac{{P}_\\mathbf{2}\\mathbb{V}_\\mathbf{2}-{P}_\\mathbf{1}\\mathbb{V}_\\mathbf{1}}{1-n}$  "
   ]
  },
  {
   "cell_type": "code",
   "execution_count": null,
   "id": "73d7164c",
   "metadata": {
    "hidden": true
   },
   "outputs": [],
   "source": [
    "P1 = \n",
    "V1 = \n",
    "P2 = \n",
    "V2 = \n",
    "n = \n",
    "W_1_2 = (P2 * V2 - P1 * V1) / (1 - n)"
   ]
  },
  {
   "cell_type": "markdown",
   "id": "091a5a12",
   "metadata": {
    "hidden": true
   },
   "source": [
    "if $n = 1$, ${}_{1}W_{2}={P}_\\mathbf{1}\\mathbb{V}_\\mathbf{1}{ln}{\\displaystyle\\frac{\\mathbb{V}_\\mathbf{2}}{\\mathbb{V}_\\mathbf{1}}}={P}_\\mathbf{2}\\mathbb{V}_\\mathbf{2}{ln}{\\displaystyle\\frac{\\mathbb{V}_\\mathbf{2}}{\\mathbb{V}_\\mathbf{1}}}$\n",
    "\n",
    "(or) \n",
    "\n",
    "${}_{1}W_{2}={P}_\\mathbf{1}\\mathbb{V}_\\mathbf{1}{ln}{\\displaystyle\\frac{{P}_\\mathbf{1}}{{P}_\\mathbf{2}}}={P}_\\mathbf{2}\\mathbb{V}_\\mathbf{2}{ln}{\\displaystyle\\frac{{P}_\\mathbf{1}}{{P}_\\mathbf{2}}}$\n",
    "\n",
    "(or) \n",
    "\n",
    "${}_{1}W_{2}={{mRT}}{ln}{\\displaystyle\\frac{\\mathbb{V}_\\mathbf{2}}{\\mathbb{V}_\\mathbf{1}}}={{mRT}}{ln}{\\displaystyle\\frac{{P}_\\mathbf{1}}{{P}_\\mathbf{2}}}$"
   ]
  },
  {
   "cell_type": "code",
   "execution_count": null,
   "id": "d5d0cd64",
   "metadata": {
    "hidden": true
   },
   "outputs": [],
   "source": [
    "P1 = \n",
    "V1 = \n",
    "P2 = \n",
    "V2 =\n",
    "T1 = # in Kelvin\n",
    "T2 = # in Kelvin\n",
    "m = \n",
    "R = 8.314 # in J/(mol K)\n",
    "# all of the below are equivalent\n",
    "W_1_2 = P1 * V1 * log(V2 / V1)\n",
    "W_1_2 = P2 * V2 * log(V2 / V1)\n",
    "W_1_2 = P1 * V1 * log(P1 / P2)\n",
    "W_1_2 = P2 * V2 * log(P1 / P2)\n",
    "W_1_2 = m * R * T * log(V2 / V1)\n",
    "W_1_2 = m * R * T * log(P1 / P2)"
   ]
  },
  {
   "cell_type": "markdown",
   "id": "a0363cad",
   "metadata": {
    "heading_collapsed": true
   },
   "source": [
    "### Specific boundary work for ideal gases:"
   ]
  },
  {
   "cell_type": "markdown",
   "id": "58cdc3f4",
   "metadata": {
    "hidden": true
   },
   "source": [
    "if $n \\neq 1$, ${}_{1}w_{2}=\\displaystyle\\frac{{P}_\\mathbf{2}\\mathbb{v}_\\mathbf{2}-{P}_\\mathbf{1}\\mathbb{v}_\\mathbf{1}}{1-n}$  \n",
    "\n",
    "if $n = 1$, ${}_{1}w_{2}={P}_\\mathbf{1}\\mathbb{v}_\\mathbf{1}{ln}{\\displaystyle\\frac{\\mathbb{v}_\\mathbf{2}}{\\mathbb{v}_\\mathbf{1}}}={P}_\\mathbf{2}\\mathbb{v}_\\mathbf{2}{ln}{\\displaystyle\\frac{\\mathbb{v}_\\mathbf{2}}{\\mathbb{v}_\\mathbf{1}}}$\n",
    "\n",
    "(or) \n",
    "\n",
    "${}_{1}w_{2}={P}_\\mathbf{1}\\mathbb{v}_\\mathbf{1}{ln}{\\displaystyle\\frac{{P}_\\mathbf{1}}{{P}_\\mathbf{2}}}={P}_\\mathbf{2}\\mathbb{v}_\\mathbf{2}{ln}{\\displaystyle\\frac{{P}_\\mathbf{1}}{{P}_\\mathbf{2}}}$\n",
    "\n",
    "(or) \n",
    "\n",
    "${}_{1}w_{2}={{mRT}}{ln}{\\displaystyle\\frac{\\mathbb{v}_\\mathbf{2}}{\\mathbb{v}_\\mathbf{1}}}={{mRT}}{ln}{\\displaystyle\\frac{{P}_\\mathbf{1}}{{P}_\\mathbf{2}}}$"
   ]
  },
  {
   "cell_type": "code",
   "execution_count": null,
   "id": "3f85307a",
   "metadata": {
    "hidden": true
   },
   "outputs": [],
   "source": [
    "m = \n",
    "P1 = \n",
    "v1 = V1 / m\n",
    "P2 = \n",
    "v2 = V2 / m\n",
    "T1 = # in Kelvin\n",
    "T2 = # in Kelvin\n",
    "\n",
    "R = 8.314 # in J/(mol K)\n",
    "# all of the below are equivalent\n",
    "w_1_2 = P1 * v1 * log(v2 / v1)\n",
    "w_1_2 = P2 * v2 * log(v2 / v1)\n",
    "w_1_2 = P1 * v1 * log(P1 / P2)\n",
    "w_1_2 = P2 * v2 * log(P1 / P2)\n",
    "w_1_2 = m * R * T * log(v2 / v1)\n",
    "w_1_2 = m * R * T * log(P1 / P2)"
   ]
  }
 ],
 "metadata": {
  "kernelspec": {
   "display_name": "ase_env",
   "language": "python",
   "name": "ase_env"
  },
  "language_info": {
   "codemirror_mode": {
    "name": "ipython",
    "version": 3
   },
   "file_extension": ".py",
   "mimetype": "text/x-python",
   "name": "python",
   "nbconvert_exporter": "python",
   "pygments_lexer": "ipython3",
   "version": "3.7.16"
  },
  "toc": {
   "base_numbering": 1,
   "nav_menu": {},
   "number_sections": true,
   "sideBar": true,
   "skip_h1_title": false,
   "title_cell": "Table of Contents",
   "title_sidebar": "Contents",
   "toc_cell": true,
   "toc_position": {},
   "toc_section_display": true,
   "toc_window_display": false
  }
 },
 "nbformat": 4,
 "nbformat_minor": 5
}
