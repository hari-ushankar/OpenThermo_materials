{
 "cells": [
  {
   "cell_type": "markdown",
   "id": "365ff329",
   "metadata": {
    "toc": true
   },
   "source": [
    "<h1>Table of Contents<span class=\"tocSkip\"></span></h1>\n",
    "<div class=\"toc\"><ul class=\"toc-item\"><li><span><a href=\"#Constant-pressure-and-constant-volume-specific-heats\" data-toc-modified-id=\"Constant-pressure-and-constant-volume-specific-heats-1\"><span class=\"toc-item-num\">1&nbsp;&nbsp;</span>Constant-pressure and constant-volume specific heats</a></span></li><li><span><a href=\"#Specific-enthalpy\" data-toc-modified-id=\"Specific-enthalpy-2\"><span class=\"toc-item-num\">2&nbsp;&nbsp;</span>Specific enthalpy</a></span></li><li><span><a href=\"#Mass-conservation-equation-in-a-control-volume\" data-toc-modified-id=\"Mass-conservation-equation-in-a-control-volume-3\"><span class=\"toc-item-num\">3&nbsp;&nbsp;</span>Mass conservation equation in a control volume</a></span></li><li><span><a href=\"#Energy-conservation-equations-in-a-control-volume\" data-toc-modified-id=\"Energy-conservation-equations-in-a-control-volume-4\"><span class=\"toc-item-num\">4&nbsp;&nbsp;</span>Energy conservation equations in a control volume</a></span></li><li><span><a href=\"#Mass-and-energy-conservation-equations-for-steady-state,-steady-flow-(SSSF)-devices\" data-toc-modified-id=\"Mass-and-energy-conservation-equations-for-steady-state,-steady-flow-(SSSF)-devices-5\"><span class=\"toc-item-num\">5&nbsp;&nbsp;</span>Mass and energy conservation equations for steady-state, steady-flow (SSSF) devices</a></span></li></ul></div>"
   ]
  },
  {
   "cell_type": "markdown",
   "id": "eae74ef2",
   "metadata": {},
   "source": [
    "## Constant-pressure and constant-volume specific heats\n",
    "\n",
    "Link to the textbook: https://pressbooks.bccampus.ca/thermo1/chapter/key-equations-4/"
   ]
  },
  {
   "cell_type": "markdown",
   "id": "07290aab",
   "metadata": {},
   "source": [
    "Relations between Cp  and  Cv for ideal gases"
   ]
  },
  {
   "cell_type": "markdown",
   "id": "2cf2c6ca",
   "metadata": {},
   "source": [
    "$k=\\displaystyle\\frac{C_p}{C_v} \\qquad \\qquad C_p=C_v+R$\n",
    "\n",
    "$C_v=\\displaystyle\\frac{R}{k-1}  \\qquad  C_p=\\displaystyle\\frac{kR}{k-1}$"
   ]
  },
  {
   "cell_type": "code",
   "execution_count": 1,
   "id": "00778c8a",
   "metadata": {},
   "outputs": [
    {
     "name": "stdout",
     "output_type": "stream",
     "text": [
      "k = 1.8314\n"
     ]
    }
   ],
   "source": [
    "C_v = 10\n",
    "R = 8.314  ## units must be consistent with the C_v above\n",
    "C_p = C_v + R\n",
    "k = C_p / C_v\n",
    "print(\"k = {}\".format(k))"
   ]
  },
  {
   "cell_type": "markdown",
   "id": "91d2c73a",
   "metadata": {},
   "source": [
    "## Specific enthalpy"
   ]
  },
  {
   "cell_type": "markdown",
   "id": "20d9a057",
   "metadata": {},
   "source": [
    "Change in specific enthalpy:\n",
    "$\\Delta h = h_2-h_1$\n",
    "\n",
    "Change in specific enthalpy for ideal gases:\n",
    "$\\Delta h = h_2-h_1 = C_p(T_2-T_1)$"
   ]
  },
  {
   "cell_type": "code",
   "execution_count": null,
   "id": "14411591",
   "metadata": {},
   "outputs": [],
   "source": [
    "## code block for the above equations\n",
    "h1 = \n",
    "h2 = \n",
    "del_h = h2 - h1\n",
    "print(\"Change in enthalpy: {}\".format(del_h))"
   ]
  },
  {
   "cell_type": "markdown",
   "id": "d61cb26d",
   "metadata": {},
   "source": [
    "Relation between Δh  and  Δu for solids and liquids: $\\Delta h \\approx\\Delta u\\approx C_p(T_2-T_1)$"
   ]
  },
  {
   "cell_type": "markdown",
   "id": "9aa2fa97",
   "metadata": {},
   "source": [
    "## Mass conservation equation in a control volume"
   ]
  },
  {
   "cell_type": "markdown",
   "id": "8bcc2a55",
   "metadata": {},
   "source": [
    "Volume flow rate: $\\dot{\\mathbb{V}}=\\displaystyle\\frac{d\\mathbb{V}}{dt}=V_{avg,\\ n}A=\\dot{m}v$"
   ]
  },
  {
   "cell_type": "markdown",
   "id": "c11dd0fb",
   "metadata": {},
   "source": [
    "Mass flow rate: $\\dot{m}=\\displaystyle\\frac{dm}{dt}=\\rho\\ V_{avg,\\ n}A=\\rho\\dot{\\mathbb{V}}$"
   ]
  },
  {
   "cell_type": "markdown",
   "id": "950da4a4",
   "metadata": {},
   "source": [
    "Transient flow: $\\displaystyle\\frac{dm_{CV}}{dt}=\\sum{\\dot{m}}_i-\\sum{\\dot{m}}_e\\neq0$"
   ]
  },
  {
   "cell_type": "markdown",
   "id": "48159d51",
   "metadata": {},
   "source": [
    "Steady flow: $\\displaystyle\\frac{dm_{CV}}{dt}=\\sum{\\dot{m}}_i-\\sum{\\dot{m}}_e=0$"
   ]
  },
  {
   "cell_type": "markdown",
   "id": "06725641",
   "metadata": {},
   "source": [
    "## Energy conservation equations in a control volume"
   ]
  },
  {
   "cell_type": "markdown",
   "id": "e52e7a52",
   "metadata": {},
   "source": [
    "$\\displaystyle\\frac{dE_{CV}}{dt}\\neq0$\n",
    "$\\begin{align*} \\displaystyle\\frac{dE_{CV}}{dt}={\\dot{Q}}_{cv}-{\\dot{W}}_{cv} &+\\sum{{\\dot{m}}_i(h_i+\\frac{1}{2}V_i^2+gz_i)} \\\\&-\\sum{{\\dot{m}}_e(h_e+\\frac{1}{2}V_e^2+gz_e)} \\end{align*}$"
   ]
  },
  {
   "cell_type": "markdown",
   "id": "25df5448",
   "metadata": {},
   "source": [
    "$\\displaystyle\\frac{dE_{CV}}{dt}=0$\n",
    "\n",
    "${\\dot{Q}}_{cv}  +\\sum{{\\dot{m}}_i\\left(h_i+\\displaystyle\\frac{1}{2}V_i^2+gz_i\\right) \\\\={\\dot{W}}_{cv} +\\sum{{\\dot{m}}_e\\left(h_e+\\displaystyle\\frac{1}{2}V_e^2+gz_e\\right)}}$"
   ]
  },
  {
   "cell_type": "markdown",
   "id": "19f01705",
   "metadata": {},
   "source": [
    "## Mass and energy conservation equations for steady-state, steady-flow (SSSF) devices\n"
   ]
  },
  {
   "cell_type": "markdown",
   "id": "5d61f59c",
   "metadata": {},
   "source": [
    "Expansion device:\n",
    "${\\dot{m}}_i={\\dot{m}}_e$"
   ]
  }
 ],
 "metadata": {
  "kernelspec": {
   "display_name": "OER",
   "language": "python",
   "name": "oer"
  },
  "language_info": {
   "codemirror_mode": {
    "name": "ipython",
    "version": 3
   },
   "file_extension": ".py",
   "mimetype": "text/x-python",
   "name": "python",
   "nbconvert_exporter": "python",
   "pygments_lexer": "ipython3",
   "version": "3.9.17"
  },
  "toc": {
   "base_numbering": 1,
   "nav_menu": {},
   "number_sections": true,
   "sideBar": true,
   "skip_h1_title": false,
   "title_cell": "Table of Contents",
   "title_sidebar": "Contents",
   "toc_cell": true,
   "toc_position": {},
   "toc_section_display": true,
   "toc_window_display": false
  }
 },
 "nbformat": 4,
 "nbformat_minor": 5
}
