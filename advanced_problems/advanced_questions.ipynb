{
 "cells": [
  {
   "cell_type": "markdown",
   "id": "3a4820bb",
   "metadata": {
    "toc": true
   },
   "source": [
    "<h1>Table of Contents<span class=\"tocSkip\"></span></h1>\n",
    "<div class=\"toc\"><ul class=\"toc-item\"></ul></div>"
   ]
  },
  {
   "cell_type": "code",
   "execution_count": 1,
   "id": "ab222360",
   "metadata": {},
   "outputs": [],
   "source": [
    "import CoolProp.CoolProp as CP"
   ]
  },
  {
   "cell_type": "markdown",
   "id": "2052a31d",
   "metadata": {},
   "source": [
    "Taken from \"Entropy\" lecture on Oct 26. Question:\n",
    "\n",
    "A rigid tank contains 15 kg of R-134a initially at 25 $^{\\circ}$ C and 120 kPa. The refrigerant is cooled while being stirred, until its pressure drops to 80kPa. Determine the entropy change during this process"
   ]
  },
  {
   "cell_type": "code",
   "execution_count": 10,
   "id": "c72e564c",
   "metadata": {},
   "outputs": [],
   "source": [
    "fluid = \"R134a\"\n",
    "T_initial = 25 + 273.15\n",
    "P_initial = 120 * 10**3"
   ]
  },
  {
   "cell_type": "code",
   "execution_count": 33,
   "id": "90d66d11",
   "metadata": {},
   "outputs": [],
   "source": [
    "v1 = CP.PropsSI('V', 'Q', 1, 'P', P_initial, fluid)"
   ]
  },
  {
   "cell_type": "code",
   "execution_count": 34,
   "id": "e4053a29",
   "metadata": {},
   "outputs": [
    {
     "data": {
      "text/plain": [
       "9.915740924182917e-06"
      ]
     },
     "execution_count": 34,
     "metadata": {},
     "output_type": "execute_result"
    }
   ],
   "source": [
    "v1"
   ]
  },
  {
   "cell_type": "code",
   "execution_count": 18,
   "id": "988159f2",
   "metadata": {},
   "outputs": [],
   "source": [
    "v1 = CP.PropsSI('V', 'T', T_initial, 'P', P_initial, fluid)"
   ]
  },
  {
   "cell_type": "code",
   "execution_count": 20,
   "id": "27962006",
   "metadata": {},
   "outputs": [
    {
     "name": "stdout",
     "output_type": "stream",
     "text": [
      "1.1813139309906828e-05\n"
     ]
    }
   ],
   "source": [
    "print(v1)"
   ]
  },
  {
   "cell_type": "code",
   "execution_count": 24,
   "id": "245153e4",
   "metadata": {},
   "outputs": [
    {
     "ename": "ValueError",
     "evalue": "Input pair variable is invalid and output(s) are non-trivial; cannot do state update : PropsSI(\"S\",\"V\",1.181313931e-05,\"P\",80000,\"R134a\")",
     "output_type": "error",
     "traceback": [
      "\u001b[0;31m---------------------------------------------------------------------------\u001b[0m",
      "\u001b[0;31mValueError\u001b[0m                                Traceback (most recent call last)",
      "Cell \u001b[0;32mIn[24], line 1\u001b[0m\n\u001b[0;32m----> 1\u001b[0m \u001b[43mCP\u001b[49m\u001b[38;5;241;43m.\u001b[39;49m\u001b[43mPropsSI\u001b[49m\u001b[43m(\u001b[49m\u001b[38;5;124;43m\"\u001b[39;49m\u001b[38;5;124;43mS\u001b[39;49m\u001b[38;5;124;43m\"\u001b[39;49m\u001b[43m,\u001b[49m\u001b[43m \u001b[49m\u001b[38;5;124;43m\"\u001b[39;49m\u001b[38;5;124;43mV\u001b[39;49m\u001b[38;5;124;43m\"\u001b[39;49m\u001b[43m,\u001b[49m\u001b[43m \u001b[49m\u001b[43mv1\u001b[49m\u001b[43m,\u001b[49m\u001b[43m \u001b[49m\u001b[38;5;124;43m\"\u001b[39;49m\u001b[38;5;124;43mP\u001b[39;49m\u001b[38;5;124;43m\"\u001b[39;49m\u001b[43m,\u001b[49m\u001b[43m \u001b[49m\u001b[38;5;241;43m80\u001b[39;49m\u001b[43m \u001b[49m\u001b[38;5;241;43m*\u001b[39;49m\u001b[43m \u001b[49m\u001b[38;5;241;43m10\u001b[39;49m\u001b[38;5;241;43m*\u001b[39;49m\u001b[38;5;241;43m*\u001b[39;49m\u001b[38;5;241;43m3\u001b[39;49m\u001b[43m,\u001b[49m\u001b[43m \u001b[49m\u001b[43mfluid\u001b[49m\u001b[43m)\u001b[49m\n",
      "File \u001b[0;32mCoolProp/CoolProp.pyx:391\u001b[0m, in \u001b[0;36mCoolProp.CoolProp.PropsSI\u001b[0;34m()\u001b[0m\n",
      "File \u001b[0;32mCoolProp/CoolProp.pyx:471\u001b[0m, in \u001b[0;36mCoolProp.CoolProp.PropsSI\u001b[0;34m()\u001b[0m\n",
      "File \u001b[0;32mCoolProp/CoolProp.pyx:358\u001b[0m, in \u001b[0;36mCoolProp.CoolProp.__Props_err2\u001b[0;34m()\u001b[0m\n",
      "\u001b[0;31mValueError\u001b[0m: Input pair variable is invalid and output(s) are non-trivial; cannot do state update : PropsSI(\"S\",\"V\",1.181313931e-05,\"P\",80000,\"R134a\")"
     ]
    }
   ],
   "source": [
    "CP.PropsSI(\"S\", \"V\", v1, \"P\", 80 * 10**3, fluid)"
   ]
  }
 ],
 "metadata": {
  "kernelspec": {
   "display_name": "OER",
   "language": "python",
   "name": "oer"
  },
  "language_info": {
   "codemirror_mode": {
    "name": "ipython",
    "version": 3
   },
   "file_extension": ".py",
   "mimetype": "text/x-python",
   "name": "python",
   "nbconvert_exporter": "python",
   "pygments_lexer": "ipython3",
   "version": "3.9.17"
  },
  "toc": {
   "base_numbering": 1,
   "nav_menu": {},
   "number_sections": true,
   "sideBar": true,
   "skip_h1_title": false,
   "title_cell": "Table of Contents",
   "title_sidebar": "Contents",
   "toc_cell": true,
   "toc_position": {},
   "toc_section_display": true,
   "toc_window_display": false
  }
 },
 "nbformat": 4,
 "nbformat_minor": 5
}
